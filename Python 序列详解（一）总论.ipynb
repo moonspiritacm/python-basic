{
 "cells": [
  {
   "cell_type": "markdown",
   "metadata": {},
   "source": [
    "# 1. 分类"
   ]
  },
  {
   "cell_type": "code",
   "execution_count": 1,
   "metadata": {},
   "outputs": [],
   "source": [
    "str1 = \"字符串序列\"  # 字符串"
   ]
  },
  {
   "cell_type": "code",
   "execution_count": 2,
   "metadata": {},
   "outputs": [],
   "source": [
    "list1 = [\"http://c.biancheng.net/python/\", 1, [2,3,4] , 3.0]  # 列表"
   ]
  },
  {
   "cell_type": "code",
   "execution_count": 3,
   "metadata": {},
   "outputs": [],
   "source": [
    "tuple1 = (\"c.biancheng.net\", 1, [2,'a'], (\"abc\",3.0))  # 元组"
   ]
  },
  {
   "cell_type": "code",
   "execution_count": 4,
   "metadata": {},
   "outputs": [],
   "source": [
    "dict1 = {'one': 1, 'two': 2, 'three': 3}  # 字典"
   ]
  },
  {
   "cell_type": "code",
   "execution_count": 5,
   "metadata": {},
   "outputs": [],
   "source": [
    "set1 = {1,'c',1,(1,2,3),'c'}  # 集合"
   ]
  },
  {
   "cell_type": "markdown",
   "metadata": {},
   "source": [
    "# 2. 通用操作"
   ]
  },
  {
   "cell_type": "code",
   "execution_count": 6,
   "metadata": {},
   "outputs": [
    {
     "name": "stdout",
     "output_type": "stream",
     "text": [
      "str1[0]: 字\n",
      "str1[-5]: 字\n"
     ]
    }
   ],
   "source": [
    "print(\"str1[0]: \" + str1[0] + \"\\nstr1[-5]: \" + str1[-5])"
   ]
  },
  {
   "cell_type": "code",
   "execution_count": 7,
   "metadata": {},
   "outputs": [
    {
     "name": "stdout",
     "output_type": "stream",
     "text": [
      "str1[:3]: 字符串\n",
      "str1[1:4]: 符串序\n",
      "str1[::2]: 字串列\n"
     ]
    }
   ],
   "source": [
    "print(\"str1[:3]: \" + str1[:3] + \"\\nstr1[1:4]: \" + str1[1:4] + \"\\nstr1[::2]: \" + str1[::2])"
   ]
  },
  {
   "cell_type": "code",
   "execution_count": 8,
   "metadata": {},
   "outputs": [
    {
     "name": "stdout",
     "output_type": "stream",
     "text": [
      "字符串正文: 字符串序列\n"
     ]
    }
   ],
   "source": [
    "print(\"字符串正文: \" + str1)"
   ]
  },
  {
   "cell_type": "code",
   "execution_count": 9,
   "metadata": {},
   "outputs": [
    {
     "name": "stdout",
     "output_type": "stream",
     "text": [
      "str1 * -2: \n",
      "str1 * 3: 字符串序列字符串序列字符串序列\n"
     ]
    }
   ],
   "source": [
    "print(\"str1 * -2: \" + str1 * -2 + \"\\nstr1 * 3: \" + str1 * 3)"
   ]
  },
  {
   "cell_type": "code",
   "execution_count": 10,
   "metadata": {},
   "outputs": [
    {
     "name": "stdout",
     "output_type": "stream",
     "text": [
      "True\n"
     ]
    }
   ],
   "source": [
    "print('串' in str1)"
   ]
  },
  {
   "cell_type": "code",
   "execution_count": 11,
   "metadata": {},
   "outputs": [
    {
     "name": "stdout",
     "output_type": "stream",
     "text": [
      "\n",
      "len(str1):  5\n",
      "\n",
      "max(str1):  符\n",
      "\n",
      "min(str1):  串\n",
      "\n",
      "list(str1): ['字', '符', '串', '序', '列']\n",
      "\n",
      "str(list1): ['http://c.biancheng.net/python/', 1, [2, 3, 4], 3.0]\n"
     ]
    }
   ],
   "source": [
    "print(\"\\nlen(str1): \", len(str1))\n",
    "print(\"\\nmax(str1): \", max(str1))\n",
    "print(\"\\nmin(str1): \", min(str1))\n",
    "print(\"\\nlist(str1): \" + str(list(str1)))\n",
    "print(\"\\nstr(list1): \" + str(list1))"
   ]
  }
 ],
 "metadata": {
  "kernelspec": {
   "display_name": "Python 3",
   "language": "python",
   "name": "python3"
  },
  "language_info": {
   "codemirror_mode": {
    "name": "ipython",
    "version": 3
   },
   "file_extension": ".py",
   "mimetype": "text/x-python",
   "name": "python",
   "nbconvert_exporter": "python",
   "pygments_lexer": "ipython3",
   "version": "3.8.5"
  }
 },
 "nbformat": 4,
 "nbformat_minor": 4
}
